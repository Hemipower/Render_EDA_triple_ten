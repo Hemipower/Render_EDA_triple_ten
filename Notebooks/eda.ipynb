{
 "cells": [
  {
   "cell_type": "markdown",
   "metadata": {},
   "source": [
    "Importing CSV and libraries"
   ]
  },
  {
   "cell_type": "code",
   "execution_count": 18,
   "metadata": {},
   "outputs": [],
   "source": [
    "import pandas as pd\n",
    "import numpy as np\n",
    "import seaborn as sns\n",
    "import matplotlib.pyplot as plt"
   ]
  },
  {
   "cell_type": "code",
   "execution_count": 19,
   "metadata": {},
   "outputs": [
    {
     "data": {
      "text/html": [
       "<div>\n",
       "<style scoped>\n",
       "    .dataframe tbody tr th:only-of-type {\n",
       "        vertical-align: middle;\n",
       "    }\n",
       "\n",
       "    .dataframe tbody tr th {\n",
       "        vertical-align: top;\n",
       "    }\n",
       "\n",
       "    .dataframe thead th {\n",
       "        text-align: right;\n",
       "    }\n",
       "</style>\n",
       "<table border=\"1\" class=\"dataframe\">\n",
       "  <thead>\n",
       "    <tr style=\"text-align: right;\">\n",
       "      <th></th>\n",
       "      <th>Year</th>\n",
       "      <th>Make</th>\n",
       "      <th>Model</th>\n",
       "      <th>Vehicle Class</th>\n",
       "      <th>Engine Size (L)</th>\n",
       "      <th>Cylinders</th>\n",
       "      <th>Transmission</th>\n",
       "      <th>Fuel Type</th>\n",
       "      <th>Fuel Consumption (L/100Km)</th>\n",
       "      <th>Hwy (L/100 km)</th>\n",
       "      <th>Comb (L/100 km)</th>\n",
       "      <th>Comb (mpg)</th>\n",
       "      <th>CO2 Emissions (g/km)</th>\n",
       "      <th>CO2 Rating</th>\n",
       "      <th>Smog Rating</th>\n",
       "    </tr>\n",
       "  </thead>\n",
       "  <tbody>\n",
       "    <tr>\n",
       "      <th>0</th>\n",
       "      <td>2023</td>\n",
       "      <td>Acura</td>\n",
       "      <td>Integra</td>\n",
       "      <td>Full-size</td>\n",
       "      <td>1.5</td>\n",
       "      <td>4</td>\n",
       "      <td>AV7</td>\n",
       "      <td>Z</td>\n",
       "      <td>7.9</td>\n",
       "      <td>6.3</td>\n",
       "      <td>7.2</td>\n",
       "      <td>39</td>\n",
       "      <td>167</td>\n",
       "      <td>6</td>\n",
       "      <td>7</td>\n",
       "    </tr>\n",
       "    <tr>\n",
       "      <th>1</th>\n",
       "      <td>2023</td>\n",
       "      <td>Acura</td>\n",
       "      <td>Integra A-SPEC</td>\n",
       "      <td>Full-size</td>\n",
       "      <td>1.5</td>\n",
       "      <td>4</td>\n",
       "      <td>AV7</td>\n",
       "      <td>Z</td>\n",
       "      <td>8.1</td>\n",
       "      <td>6.5</td>\n",
       "      <td>7.4</td>\n",
       "      <td>38</td>\n",
       "      <td>172</td>\n",
       "      <td>6</td>\n",
       "      <td>7</td>\n",
       "    </tr>\n",
       "    <tr>\n",
       "      <th>2</th>\n",
       "      <td>2023</td>\n",
       "      <td>Acura</td>\n",
       "      <td>Integra A-SPEC</td>\n",
       "      <td>Full-size</td>\n",
       "      <td>1.5</td>\n",
       "      <td>4</td>\n",
       "      <td>M6</td>\n",
       "      <td>Z</td>\n",
       "      <td>8.9</td>\n",
       "      <td>6.5</td>\n",
       "      <td>7.8</td>\n",
       "      <td>36</td>\n",
       "      <td>181</td>\n",
       "      <td>6</td>\n",
       "      <td>6</td>\n",
       "    </tr>\n",
       "    <tr>\n",
       "      <th>3</th>\n",
       "      <td>2023</td>\n",
       "      <td>Acura</td>\n",
       "      <td>MDX SH-AWD</td>\n",
       "      <td>SUV: Small</td>\n",
       "      <td>3.5</td>\n",
       "      <td>6</td>\n",
       "      <td>AS10</td>\n",
       "      <td>Z</td>\n",
       "      <td>12.6</td>\n",
       "      <td>9.4</td>\n",
       "      <td>11.2</td>\n",
       "      <td>25</td>\n",
       "      <td>263</td>\n",
       "      <td>4</td>\n",
       "      <td>5</td>\n",
       "    </tr>\n",
       "    <tr>\n",
       "      <th>4</th>\n",
       "      <td>2023</td>\n",
       "      <td>Acura</td>\n",
       "      <td>MDX SH-AWD Type S</td>\n",
       "      <td>SUV: Standard</td>\n",
       "      <td>3.0</td>\n",
       "      <td>6</td>\n",
       "      <td>AS10</td>\n",
       "      <td>Z</td>\n",
       "      <td>13.8</td>\n",
       "      <td>11.2</td>\n",
       "      <td>12.4</td>\n",
       "      <td>23</td>\n",
       "      <td>291</td>\n",
       "      <td>4</td>\n",
       "      <td>5</td>\n",
       "    </tr>\n",
       "    <tr>\n",
       "      <th>...</th>\n",
       "      <td>...</td>\n",
       "      <td>...</td>\n",
       "      <td>...</td>\n",
       "      <td>...</td>\n",
       "      <td>...</td>\n",
       "      <td>...</td>\n",
       "      <td>...</td>\n",
       "      <td>...</td>\n",
       "      <td>...</td>\n",
       "      <td>...</td>\n",
       "      <td>...</td>\n",
       "      <td>...</td>\n",
       "      <td>...</td>\n",
       "      <td>...</td>\n",
       "      <td>...</td>\n",
       "    </tr>\n",
       "    <tr>\n",
       "      <th>828</th>\n",
       "      <td>2023</td>\n",
       "      <td>Volvo</td>\n",
       "      <td>XC40 B5 AWD</td>\n",
       "      <td>SUV: Small</td>\n",
       "      <td>2.0</td>\n",
       "      <td>4</td>\n",
       "      <td>AS8</td>\n",
       "      <td>Z</td>\n",
       "      <td>10.2</td>\n",
       "      <td>7.9</td>\n",
       "      <td>9.2</td>\n",
       "      <td>31</td>\n",
       "      <td>215</td>\n",
       "      <td>5</td>\n",
       "      <td>5</td>\n",
       "    </tr>\n",
       "    <tr>\n",
       "      <th>829</th>\n",
       "      <td>2023</td>\n",
       "      <td>Volvo</td>\n",
       "      <td>XC60 B5 AWD</td>\n",
       "      <td>SUV: Small</td>\n",
       "      <td>2.0</td>\n",
       "      <td>4</td>\n",
       "      <td>AS8</td>\n",
       "      <td>Z</td>\n",
       "      <td>10.3</td>\n",
       "      <td>8.2</td>\n",
       "      <td>9.4</td>\n",
       "      <td>30</td>\n",
       "      <td>218</td>\n",
       "      <td>5</td>\n",
       "      <td>5</td>\n",
       "    </tr>\n",
       "    <tr>\n",
       "      <th>830</th>\n",
       "      <td>2023</td>\n",
       "      <td>Volvo</td>\n",
       "      <td>XC60 B6 AWD</td>\n",
       "      <td>SUV: Small</td>\n",
       "      <td>2.0</td>\n",
       "      <td>4</td>\n",
       "      <td>AS8</td>\n",
       "      <td>Z</td>\n",
       "      <td>11.1</td>\n",
       "      <td>8.7</td>\n",
       "      <td>10.0</td>\n",
       "      <td>28</td>\n",
       "      <td>233</td>\n",
       "      <td>5</td>\n",
       "      <td>7</td>\n",
       "    </tr>\n",
       "    <tr>\n",
       "      <th>831</th>\n",
       "      <td>2023</td>\n",
       "      <td>Volvo</td>\n",
       "      <td>XC90 B5 AWD</td>\n",
       "      <td>SUV: Standard</td>\n",
       "      <td>2.0</td>\n",
       "      <td>4</td>\n",
       "      <td>AS8</td>\n",
       "      <td>Z</td>\n",
       "      <td>10.5</td>\n",
       "      <td>8.4</td>\n",
       "      <td>9.6</td>\n",
       "      <td>29</td>\n",
       "      <td>223</td>\n",
       "      <td>5</td>\n",
       "      <td>5</td>\n",
       "    </tr>\n",
       "    <tr>\n",
       "      <th>832</th>\n",
       "      <td>2023</td>\n",
       "      <td>Volvo</td>\n",
       "      <td>XC90 B6 AWD</td>\n",
       "      <td>SUV: Standard</td>\n",
       "      <td>2.0</td>\n",
       "      <td>4</td>\n",
       "      <td>AS8</td>\n",
       "      <td>Z</td>\n",
       "      <td>11.9</td>\n",
       "      <td>9.1</td>\n",
       "      <td>10.6</td>\n",
       "      <td>27</td>\n",
       "      <td>249</td>\n",
       "      <td>5</td>\n",
       "      <td>7</td>\n",
       "    </tr>\n",
       "  </tbody>\n",
       "</table>\n",
       "<p>833 rows × 15 columns</p>\n",
       "</div>"
      ],
      "text/plain": [
       "     Year   Make              Model  Vehicle Class  Engine Size (L)  \\\n",
       "0    2023  Acura            Integra      Full-size              1.5   \n",
       "1    2023  Acura     Integra A-SPEC      Full-size              1.5   \n",
       "2    2023  Acura     Integra A-SPEC      Full-size              1.5   \n",
       "3    2023  Acura         MDX SH-AWD     SUV: Small              3.5   \n",
       "4    2023  Acura  MDX SH-AWD Type S  SUV: Standard              3.0   \n",
       "..    ...    ...                ...            ...              ...   \n",
       "828  2023  Volvo        XC40 B5 AWD     SUV: Small              2.0   \n",
       "829  2023  Volvo        XC60 B5 AWD     SUV: Small              2.0   \n",
       "830  2023  Volvo        XC60 B6 AWD     SUV: Small              2.0   \n",
       "831  2023  Volvo        XC90 B5 AWD  SUV: Standard              2.0   \n",
       "832  2023  Volvo        XC90 B6 AWD  SUV: Standard              2.0   \n",
       "\n",
       "     Cylinders Transmission Fuel Type  Fuel Consumption (L/100Km)  \\\n",
       "0            4          AV7         Z                         7.9   \n",
       "1            4          AV7         Z                         8.1   \n",
       "2            4           M6         Z                         8.9   \n",
       "3            6         AS10         Z                        12.6   \n",
       "4            6         AS10         Z                        13.8   \n",
       "..         ...          ...       ...                         ...   \n",
       "828          4          AS8         Z                        10.2   \n",
       "829          4          AS8         Z                        10.3   \n",
       "830          4          AS8         Z                        11.1   \n",
       "831          4          AS8         Z                        10.5   \n",
       "832          4          AS8         Z                        11.9   \n",
       "\n",
       "     Hwy (L/100 km)  Comb (L/100 km)  Comb (mpg)  CO2 Emissions (g/km)  \\\n",
       "0               6.3              7.2          39                   167   \n",
       "1               6.5              7.4          38                   172   \n",
       "2               6.5              7.8          36                   181   \n",
       "3               9.4             11.2          25                   263   \n",
       "4              11.2             12.4          23                   291   \n",
       "..              ...              ...         ...                   ...   \n",
       "828             7.9              9.2          31                   215   \n",
       "829             8.2              9.4          30                   218   \n",
       "830             8.7             10.0          28                   233   \n",
       "831             8.4              9.6          29                   223   \n",
       "832             9.1             10.6          27                   249   \n",
       "\n",
       "     CO2 Rating  Smog Rating  \n",
       "0             6            7  \n",
       "1             6            7  \n",
       "2             6            6  \n",
       "3             4            5  \n",
       "4             4            5  \n",
       "..          ...          ...  \n",
       "828           5            5  \n",
       "829           5            5  \n",
       "830           5            7  \n",
       "831           5            5  \n",
       "832           5            7  \n",
       "\n",
       "[833 rows x 15 columns]"
      ]
     },
     "execution_count": 19,
     "metadata": {},
     "output_type": "execute_result"
    }
   ],
   "source": [
    "df = pd.read_csv(\"../Fuel_Consumption_Ratings_2023.csv\",encoding='utf-8', errors='replace')\n",
    "df"
   ]
  },
  {
   "cell_type": "markdown",
   "metadata": {},
   "source": [
    "Data Cleaning"
   ]
  },
  {
   "cell_type": "code",
   "execution_count": 20,
   "metadata": {},
   "outputs": [
    {
     "data": {
      "text/plain": [
       "Year   Make   Model  Vehicle Class  Engine Size (L)  Cylinders  Transmission  Fuel Type  Fuel Consumption (L/100Km)  Hwy (L/100 km)  Comb (L/100 km)  Comb (mpg)  CO2 Emissions (g/km)  CO2 Rating  Smog Rating\n",
       "False  False  False  False          False            False      False         False      False                       False           False            False       False                 False       False          833\n",
       "Name: count, dtype: int64"
      ]
     },
     "execution_count": 20,
     "metadata": {},
     "output_type": "execute_result"
    }
   ],
   "source": [
    "df.isna().value_counts()\n",
    "#None of the values are N/A."
   ]
  },
  {
   "cell_type": "markdown",
   "metadata": {},
   "source": [
    "Explanatory Data Analysis"
   ]
  },
  {
   "cell_type": "code",
   "execution_count": 21,
   "metadata": {},
   "outputs": [
    {
     "data": {
      "text/html": [
       "<div>\n",
       "<style scoped>\n",
       "    .dataframe tbody tr th:only-of-type {\n",
       "        vertical-align: middle;\n",
       "    }\n",
       "\n",
       "    .dataframe tbody tr th {\n",
       "        vertical-align: top;\n",
       "    }\n",
       "\n",
       "    .dataframe thead th {\n",
       "        text-align: right;\n",
       "    }\n",
       "</style>\n",
       "<table border=\"1\" class=\"dataframe\">\n",
       "  <thead>\n",
       "    <tr style=\"text-align: right;\">\n",
       "      <th></th>\n",
       "      <th>Year</th>\n",
       "      <th>Engine Size (L)</th>\n",
       "      <th>Cylinders</th>\n",
       "      <th>Fuel Consumption (L/100Km)</th>\n",
       "      <th>Hwy (L/100 km)</th>\n",
       "      <th>Comb (L/100 km)</th>\n",
       "      <th>Comb (mpg)</th>\n",
       "      <th>CO2 Emissions (g/km)</th>\n",
       "      <th>CO2 Rating</th>\n",
       "      <th>Smog Rating</th>\n",
       "    </tr>\n",
       "  </thead>\n",
       "  <tbody>\n",
       "    <tr>\n",
       "      <th>count</th>\n",
       "      <td>833.0</td>\n",
       "      <td>833.000000</td>\n",
       "      <td>833.000000</td>\n",
       "      <td>833.000000</td>\n",
       "      <td>833.000000</td>\n",
       "      <td>833.000000</td>\n",
       "      <td>833.000000</td>\n",
       "      <td>833.000000</td>\n",
       "      <td>833.000000</td>\n",
       "      <td>833.000000</td>\n",
       "    </tr>\n",
       "    <tr>\n",
       "      <th>mean</th>\n",
       "      <td>2023.0</td>\n",
       "      <td>3.147899</td>\n",
       "      <td>5.627851</td>\n",
       "      <td>12.431453</td>\n",
       "      <td>9.353661</td>\n",
       "      <td>11.047179</td>\n",
       "      <td>27.375750</td>\n",
       "      <td>257.471789</td>\n",
       "      <td>4.522209</td>\n",
       "      <td>5.236495</td>\n",
       "    </tr>\n",
       "    <tr>\n",
       "      <th>std</th>\n",
       "      <td>0.0</td>\n",
       "      <td>1.353076</td>\n",
       "      <td>1.968695</td>\n",
       "      <td>3.456191</td>\n",
       "      <td>2.302312</td>\n",
       "      <td>2.878308</td>\n",
       "      <td>7.559968</td>\n",
       "      <td>64.262847</td>\n",
       "      <td>1.279385</td>\n",
       "      <td>1.665693</td>\n",
       "    </tr>\n",
       "    <tr>\n",
       "      <th>min</th>\n",
       "      <td>2023.0</td>\n",
       "      <td>1.200000</td>\n",
       "      <td>3.000000</td>\n",
       "      <td>4.400000</td>\n",
       "      <td>4.400000</td>\n",
       "      <td>4.400000</td>\n",
       "      <td>11.000000</td>\n",
       "      <td>104.000000</td>\n",
       "      <td>1.000000</td>\n",
       "      <td>1.000000</td>\n",
       "    </tr>\n",
       "    <tr>\n",
       "      <th>25%</th>\n",
       "      <td>2023.0</td>\n",
       "      <td>2.000000</td>\n",
       "      <td>4.000000</td>\n",
       "      <td>10.100000</td>\n",
       "      <td>7.700000</td>\n",
       "      <td>9.000000</td>\n",
       "      <td>22.000000</td>\n",
       "      <td>211.000000</td>\n",
       "      <td>4.000000</td>\n",
       "      <td>5.000000</td>\n",
       "    </tr>\n",
       "    <tr>\n",
       "      <th>50%</th>\n",
       "      <td>2023.0</td>\n",
       "      <td>3.000000</td>\n",
       "      <td>6.000000</td>\n",
       "      <td>12.100000</td>\n",
       "      <td>9.100000</td>\n",
       "      <td>10.700000</td>\n",
       "      <td>26.000000</td>\n",
       "      <td>254.000000</td>\n",
       "      <td>5.000000</td>\n",
       "      <td>5.000000</td>\n",
       "    </tr>\n",
       "    <tr>\n",
       "      <th>75%</th>\n",
       "      <td>2023.0</td>\n",
       "      <td>3.600000</td>\n",
       "      <td>6.000000</td>\n",
       "      <td>14.600000</td>\n",
       "      <td>10.700000</td>\n",
       "      <td>12.900000</td>\n",
       "      <td>31.000000</td>\n",
       "      <td>299.000000</td>\n",
       "      <td>5.000000</td>\n",
       "      <td>7.000000</td>\n",
       "    </tr>\n",
       "    <tr>\n",
       "      <th>max</th>\n",
       "      <td>2023.0</td>\n",
       "      <td>8.000000</td>\n",
       "      <td>16.000000</td>\n",
       "      <td>30.300000</td>\n",
       "      <td>20.900000</td>\n",
       "      <td>26.100000</td>\n",
       "      <td>64.000000</td>\n",
       "      <td>608.000000</td>\n",
       "      <td>9.000000</td>\n",
       "      <td>8.000000</td>\n",
       "    </tr>\n",
       "  </tbody>\n",
       "</table>\n",
       "</div>"
      ],
      "text/plain": [
       "         Year  Engine Size (L)   Cylinders  Fuel Consumption (L/100Km)  \\\n",
       "count   833.0       833.000000  833.000000                  833.000000   \n",
       "mean   2023.0         3.147899    5.627851                   12.431453   \n",
       "std       0.0         1.353076    1.968695                    3.456191   \n",
       "min    2023.0         1.200000    3.000000                    4.400000   \n",
       "25%    2023.0         2.000000    4.000000                   10.100000   \n",
       "50%    2023.0         3.000000    6.000000                   12.100000   \n",
       "75%    2023.0         3.600000    6.000000                   14.600000   \n",
       "max    2023.0         8.000000   16.000000                   30.300000   \n",
       "\n",
       "       Hwy (L/100 km)  Comb (L/100 km)  Comb (mpg)  CO2 Emissions (g/km)  \\\n",
       "count      833.000000       833.000000  833.000000            833.000000   \n",
       "mean         9.353661        11.047179   27.375750            257.471789   \n",
       "std          2.302312         2.878308    7.559968             64.262847   \n",
       "min          4.400000         4.400000   11.000000            104.000000   \n",
       "25%          7.700000         9.000000   22.000000            211.000000   \n",
       "50%          9.100000        10.700000   26.000000            254.000000   \n",
       "75%         10.700000        12.900000   31.000000            299.000000   \n",
       "max         20.900000        26.100000   64.000000            608.000000   \n",
       "\n",
       "       CO2 Rating  Smog Rating  \n",
       "count  833.000000   833.000000  \n",
       "mean     4.522209     5.236495  \n",
       "std      1.279385     1.665693  \n",
       "min      1.000000     1.000000  \n",
       "25%      4.000000     5.000000  \n",
       "50%      5.000000     5.000000  \n",
       "75%      5.000000     7.000000  \n",
       "max      9.000000     8.000000  "
      ]
     },
     "execution_count": 21,
     "metadata": {},
     "output_type": "execute_result"
    }
   ],
   "source": [
    "df.describe()"
   ]
  },
  {
   "cell_type": "code",
   "execution_count": 22,
   "metadata": {},
   "outputs": [
    {
     "name": "stdout",
     "output_type": "stream",
     "text": [
      "Make\n",
      "Ford             13\n",
      "Chevrolet        11\n",
      "Dodge            10\n",
      "Mercedes-Benz     8\n",
      "Rolls-Royce       7\n",
      "Audi              7\n",
      "GMC               7\n",
      "Lamborghini       6\n",
      "Jeep              5\n",
      "Aston Martin      4\n",
      "Maserati          4\n",
      "BMW               4\n",
      "Cadillac          4\n",
      "Bentley           4\n",
      "Bugatti           3\n",
      "Infiniti          1\n",
      "Nissan            1\n",
      "Ram               1\n",
      "Name: count, dtype: int64\n"
     ]
    },
    {
     "data": {
      "text/plain": [
       "<Axes: xlabel='Make'>"
      ]
     },
     "execution_count": 22,
     "metadata": {},
     "output_type": "execute_result"
    },
    {
     "data": {
      "image/png": "[encoded data removed]",
      "text/plain": [
       "<Figure size 640x480 with 1 Axes>"
      ]
     },
     "metadata": {},
     "output_type": "display_data"
    }
   ],
   "source": [
    "fuelcons_more = pd.DataFrame(df.sort_values(by='Fuel Consumption (L/100Km)',ascending=False))\n",
    "print(fuelcons_more.head(100).value_counts(df['Make']))\n",
    "fuelcons_more.head(100).value_counts(df['Make']).plot(kind='bar')\n",
    "\n"
   ]
  },
  {
   "cell_type": "code",
   "execution_count": 23,
   "metadata": {},
   "outputs": [
    {
     "name": "stdout",
     "output_type": "stream",
     "text": [
      "Make\n",
      "Toyota        22\n",
      "Honda         11\n",
      "Hyundai       10\n",
      "Kia           10\n",
      "Nissan         9\n",
      "MINI           8\n",
      "Mazda          6\n",
      "Lexus          5\n",
      "Volkswagen     4\n",
      "Ford           3\n",
      "Chevrolet      3\n",
      "Subaru         3\n",
      "Buick          2\n",
      "Acura          2\n",
      "Mitsubishi     2\n",
      "Name: count, dtype: int64\n"
     ]
    },
    {
     "data": {
      "text/plain": [
       "<Axes: xlabel='Make'>"
      ]
     },
     "execution_count": 23,
     "metadata": {},
     "output_type": "execute_result"
    },
    {
     "data": {
      "image/png": "[encoded data removed]",
      "text/plain": [
       "<Figure size 640x480 with 1 Axes>"
      ]
     },
     "metadata": {},
     "output_type": "display_data"
    }
   ],
   "source": [
    "fuelcons_less = pd.DataFrame(df.sort_values(by='Fuel Consumption (L/100Km)',ascending=True))\n",
    "print(fuelcons_less.head(100).value_counts(df['Make']))\n",
    "fuelcons_less.head(100).value_counts(df['Make']).plot(kind='bar')"
   ]
  },
  {
   "cell_type": "code",
   "execution_count": 24,
   "metadata": {},
   "outputs": [],
   "source": [
    "# Ford has the most ineffiecent cars , 13 out of the 100 most ineffiecent cars belong to ford , Ford cars consume more Fuel per 100 Kms than the average\n",
    "# Toyota has the most effiecent cars , 22 out of the 100 most effiecent cars belong to Toyota,  Toyota cars consume less Fuel per 100 Kms than the average\n"
   ]
  },
  {
   "cell_type": "code",
   "execution_count": 25,
   "metadata": {},
   "outputs": [
    {
     "name": "stdout",
     "output_type": "stream",
     "text": [
      "The smog rating for Z type fuel is below the average rating\n",
      "4.625\n",
      "The CO2 rating for Z type fuel is below the average rating\n",
      "4.169117647058823\n"
     ]
    }
   ],
   "source": [
    "df_Z = df[df['Fuel Type'] == 'Z']\n",
    "mean_z_co2 = df_Z['CO2 Rating'].mean()\n",
    "mean_z_smog = df_Z['Smog Rating'].mean()\n",
    "if mean_z_smog < df['Smog Rating'].mean():\n",
    "    print(\"The smog rating for Z type fuel is below the average rating\")\n",
    "else:\n",
    "    print(\"The smog rating for Z type fuel is above the average rating\")\n",
    "print(mean_z_smog)\n",
    "if mean_z_co2 < df['CO2 Rating'].mean():\n",
    "    print(\"The CO2 rating for Z type fuel is below the average rating\")\n",
    "else:\n",
    "    print(\"The Co2 rating for Z type fuel is above the average rating\")\n",
    "print(mean_z_co2)"
   ]
  },
  {
   "cell_type": "code",
   "execution_count": 26,
   "metadata": {},
   "outputs": [
    {
     "name": "stdout",
     "output_type": "stream",
     "text": [
      "The smog rating for X type fuel is above the average rating\n",
      "5.987179487179487\n",
      "The Co2 rating for X type fuel is above the average rating\n",
      "4.933333333333334\n"
     ]
    }
   ],
   "source": [
    "df_X = df[df['Fuel Type'] == 'X']\n",
    "mean_x_co2 = df_X['CO2 Rating'].mean()\n",
    "mean_x_smog = df_X['Smog Rating'].mean()\n",
    "if mean_x_smog < df['Smog Rating'].mean():\n",
    "    print(\"The smog rating for X type fuel is below the average rating\")\n",
    "else:\n",
    "    print(\"The smog rating for X type fuel is above the average rating\")\n",
    "print(mean_x_smog)\n",
    "if mean_x_co2 < df['CO2 Rating'].mean():\n",
    "    print(\"The CO2 rating for X type fuel is below the average rating\")\n",
    "else:\n",
    "    print(\"The Co2 rating for X type fuel is above the average rating\")\n",
    "print(mean_x_co2)"
   ]
  },
  {
   "cell_type": "code",
   "execution_count": 27,
   "metadata": {},
   "outputs": [
    {
     "name": "stdout",
     "output_type": "stream",
     "text": [
      "The smog rating for D type fuel is below the average rating\n",
      "3.1\n",
      "The CO2 rating for D type fuel is below the average rating\n",
      "4.15\n"
     ]
    }
   ],
   "source": [
    "df_D = df[df['Fuel Type'] == 'D']\n",
    "mean_D_co2 = df_D['CO2 Rating'].mean()\n",
    "mean_D_smog = df_D['Smog Rating'].mean()\n",
    "if mean_D_smog < df['Smog Rating'].mean():\n",
    "    print(\"The smog rating for D type fuel is below the average rating\")\n",
    "else:\n",
    "    print(\"The smog rating for D type fuel is above the average rating\")\n",
    "print(mean_D_smog)\n",
    "if mean_D_co2 < df['CO2 Rating'].mean():\n",
    "    print(\"The CO2 rating for D type fuel is below the average rating\")\n",
    "else:\n",
    "    print(\"The Co2 rating for D type fuel is above the average rating\")\n",
    "print(mean_D_co2)"
   ]
  },
  {
   "cell_type": "code",
   "execution_count": 28,
   "metadata": {},
   "outputs": [
    {
     "name": "stdout",
     "output_type": "stream",
     "text": [
      "The smog rating for E type fuel is below the average rating\n",
      "5.2\n",
      "The CO2 rating for E type fuel is below the average rating\n",
      "3.933333333333333\n"
     ]
    }
   ],
   "source": [
    "df_E = df[df['Fuel Type'] == 'E']\n",
    "mean_E_co2 = df_E['CO2 Rating'].mean()\n",
    "mean_E_smog = df_E['Smog Rating'].mean()\n",
    "if mean_E_smog < df['Smog Rating'].mean():\n",
    "    print(\"The smog rating for E type fuel is below the average rating\")\n",
    "else:\n",
    "    print(\"The smog rating for E type fuel is above the average rating\")\n",
    "print(mean_E_smog)\n",
    "if mean_E_co2 < df['CO2 Rating'].mean():\n",
    "    print(\"The CO2 rating for E type fuel is below the average rating\")\n",
    "else:\n",
    "    print(\"The Co2 rating for E type fuel is above the average rating\")\n",
    "print(mean_E_co2)"
   ]
  },
  {
   "cell_type": "code",
   "execution_count": 29,
   "metadata": {},
   "outputs": [],
   "source": [
    "#Type X Fuel(natural gas) overall has the best rating when it comes to Smog emissions and CO2 emissions.\n",
    "#Type D Fuel(Diesel) has the worst rating when it comes to smog emissions\n",
    "#Type E Fuel(ethanol (E85)) has the worst rating when it comes to CO2 emissions"
   ]
  },
  {
   "cell_type": "code",
   "execution_count": 30,
   "metadata": {},
   "outputs": [
    {
     "name": "stdout",
     "output_type": "stream",
     "text": [
      "Engine Size (L)\n",
      "6.2    21\n",
      "4.0    13\n",
      "5.2    12\n",
      "6.7     7\n",
      "5.0     7\n",
      "5.3     6\n",
      "6.4     5\n",
      "6.0     5\n",
      "4.4     4\n",
      "3.8     4\n",
      "8.0     3\n",
      "5.7     3\n",
      "3.3     3\n",
      "5.5     2\n",
      "3.5     2\n",
      "5.6     2\n",
      "3.0     1\n",
      "Name: count, dtype: int64\n",
      "The average engine size is  3.1478991596638655 While the average engine size for the top 100 most fuel consuming cars is 5.363000000000002\n"
     ]
    },
    {
     "data": {
      "image/png": "[encoded data removed]",
      "text/plain": [
       "<Figure size 640x480 with 1 Axes>"
      ]
     },
     "metadata": {},
     "output_type": "display_data"
    }
   ],
   "source": [
    "fuelcons_more = pd.DataFrame(df.sort_values(by='Fuel Consumption (L/100Km)',ascending=False))\n",
    "print(fuelcons_more.head(100).value_counts(df['Engine Size (L)']))\n",
    "fuelcons_more.head(100).value_counts(df['Engine Size (L)']).plot(kind='bar')\n",
    "print(\"The average engine size is \",df['Engine Size (L)'].mean(),\"While the average engine size for the top 100 most fuel consuming cars is\",fuelcons_more['Engine Size (L)'].head(100).mean())\n"
   ]
  },
  {
   "cell_type": "code",
   "execution_count": 31,
   "metadata": {},
   "outputs": [],
   "source": [
    "# We can understand that bigger engine size means a drop in effiency in consumption of Fuel "
   ]
  },
  {
   "cell_type": "markdown",
   "metadata": {},
   "source": []
  }
 ],
 "metadata": {
  "kernelspec": {
   "display_name": "Python 3",
   "language": "python",
   "name": "python3"
  },
  "language_info": {
   "codemirror_mode": {
    "name": "ipython",
    "version": 3
   },
   "file_extension": ".py",
   "mimetype": "text/x-python",
   "name": "python",
   "nbconvert_exporter": "python",
   "pygments_lexer": "ipython3",
   "version": "3.11.9"
  },
  "orig_nbformat": 4
 },
 "nbformat": 4,
 "nbformat_minor": 2
}
