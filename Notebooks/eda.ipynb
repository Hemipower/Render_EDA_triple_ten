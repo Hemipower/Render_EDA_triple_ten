{
 "cells": [
  {
   "cell_type": "code",
   "execution_count": 1,
   "metadata": {},
   "outputs": [],
   "source": [
    "import pandas as pd\n",
    "import plotly_express as px\n",
    "import seaborn as sns \n",
    "import matplotlib.pyplot as plt"
   ]
  },
  {
   "cell_type": "code",
   "execution_count": 2,
   "metadata": {},
   "outputs": [],
   "source": [
    "df = pd.read_csv('../sets.csv')"
   ]
  },
  {
   "cell_type": "code",
   "execution_count": 3,
   "metadata": {},
   "outputs": [
    {
     "name": "stderr",
     "output_type": "stream",
     "text": [
      "C:\\Users\\Khush Trivedi\\AppData\\Local\\Temp\\ipykernel_43656\\1832441722.py:1: FutureWarning: A value is trying to be set on a copy of a DataFrame or Series through chained assignment using an inplace method.\n",
      "The behavior will change in pandas 3.0. This inplace method will never work because the intermediate object on which we are setting values always behaves as a copy.\n",
      "\n",
      "For example, when doing 'df[col].method(value, inplace=True)', try using 'df.method({col: value}, inplace=True)' or df[col] = df[col].method(value) instead, to perform the operation inplace on the original object.\n",
      "\n",
      "\n",
      "  df['Minifigures'].fillna(0,inplace = True) #We will fill null values in the minifigure column for better visualization\n"
     ]
    },
    {
     "data": {
      "text/html": [
       "<div>\n",
       "<style scoped>\n",
       "    .dataframe tbody tr th:only-of-type {\n",
       "        vertical-align: middle;\n",
       "    }\n",
       "\n",
       "    .dataframe tbody tr th {\n",
       "        vertical-align: top;\n",
       "    }\n",
       "\n",
       "    .dataframe thead th {\n",
       "        text-align: right;\n",
       "    }\n",
       "</style>\n",
       "<table border=\"1\" class=\"dataframe\">\n",
       "  <thead>\n",
       "    <tr style=\"text-align: right;\">\n",
       "      <th></th>\n",
       "      <th>Set_ID</th>\n",
       "      <th>Name</th>\n",
       "      <th>Year</th>\n",
       "      <th>Theme</th>\n",
       "      <th>Theme_Group</th>\n",
       "      <th>Subtheme</th>\n",
       "      <th>Category</th>\n",
       "      <th>Packaging</th>\n",
       "      <th>Num_Instructions</th>\n",
       "      <th>Availability</th>\n",
       "      <th>Pieces</th>\n",
       "      <th>Minifigures</th>\n",
       "      <th>Owned</th>\n",
       "      <th>Rating</th>\n",
       "      <th>USD_MSRP</th>\n",
       "      <th>Total_Quantity</th>\n",
       "      <th>Current_Price</th>\n",
       "    </tr>\n",
       "  </thead>\n",
       "  <tbody>\n",
       "    <tr>\n",
       "      <th>0</th>\n",
       "      <td>75-1</td>\n",
       "      <td>PreSchool Set</td>\n",
       "      <td>1975</td>\n",
       "      <td>PreSchool</td>\n",
       "      <td>Pre-school</td>\n",
       "      <td>NaN</td>\n",
       "      <td>Normal</td>\n",
       "      <td>{Not specified}</td>\n",
       "      <td>0</td>\n",
       "      <td>{Not specified}</td>\n",
       "      <td>16.0</td>\n",
       "      <td>0.0</td>\n",
       "      <td>10.0</td>\n",
       "      <td>0.0</td>\n",
       "      <td>NaN</td>\n",
       "      <td>NaN</td>\n",
       "      <td>NaN</td>\n",
       "    </tr>\n",
       "    <tr>\n",
       "      <th>1</th>\n",
       "      <td>77-1</td>\n",
       "      <td>PreSchool Set</td>\n",
       "      <td>1975</td>\n",
       "      <td>PreSchool</td>\n",
       "      <td>Pre-school</td>\n",
       "      <td>NaN</td>\n",
       "      <td>Normal</td>\n",
       "      <td>{Not specified}</td>\n",
       "      <td>0</td>\n",
       "      <td>{Not specified}</td>\n",
       "      <td>20.0</td>\n",
       "      <td>0.0</td>\n",
       "      <td>11.0</td>\n",
       "      <td>0.0</td>\n",
       "      <td>NaN</td>\n",
       "      <td>NaN</td>\n",
       "      <td>NaN</td>\n",
       "    </tr>\n",
       "    <tr>\n",
       "      <th>2</th>\n",
       "      <td>077-1</td>\n",
       "      <td>Pre-School Set</td>\n",
       "      <td>1975</td>\n",
       "      <td>Duplo</td>\n",
       "      <td>Pre-school</td>\n",
       "      <td>NaN</td>\n",
       "      <td>Normal</td>\n",
       "      <td>{Not specified}</td>\n",
       "      <td>0</td>\n",
       "      <td>{Not specified}</td>\n",
       "      <td>21.0</td>\n",
       "      <td>0.0</td>\n",
       "      <td>10.0</td>\n",
       "      <td>0.0</td>\n",
       "      <td>NaN</td>\n",
       "      <td>0.0</td>\n",
       "      <td>NaN</td>\n",
       "    </tr>\n",
       "    <tr>\n",
       "      <th>3</th>\n",
       "      <td>78-1</td>\n",
       "      <td>PreSchool Set</td>\n",
       "      <td>1975</td>\n",
       "      <td>PreSchool</td>\n",
       "      <td>Pre-school</td>\n",
       "      <td>NaN</td>\n",
       "      <td>Normal</td>\n",
       "      <td>{Not specified}</td>\n",
       "      <td>0</td>\n",
       "      <td>{Not specified}</td>\n",
       "      <td>32.0</td>\n",
       "      <td>0.0</td>\n",
       "      <td>8.0</td>\n",
       "      <td>0.0</td>\n",
       "      <td>NaN</td>\n",
       "      <td>NaN</td>\n",
       "      <td>NaN</td>\n",
       "    </tr>\n",
       "    <tr>\n",
       "      <th>4</th>\n",
       "      <td>78-3</td>\n",
       "      <td>Basic Set</td>\n",
       "      <td>1975</td>\n",
       "      <td>Samsonite</td>\n",
       "      <td>Vintage</td>\n",
       "      <td>Basic set</td>\n",
       "      <td>Normal</td>\n",
       "      <td>Box</td>\n",
       "      <td>0</td>\n",
       "      <td>{Not specified}</td>\n",
       "      <td>330.0</td>\n",
       "      <td>0.0</td>\n",
       "      <td>10.0</td>\n",
       "      <td>0.0</td>\n",
       "      <td>NaN</td>\n",
       "      <td>0.0</td>\n",
       "      <td>NaN</td>\n",
       "    </tr>\n",
       "    <tr>\n",
       "      <th>...</th>\n",
       "      <td>...</td>\n",
       "      <td>...</td>\n",
       "      <td>...</td>\n",
       "      <td>...</td>\n",
       "      <td>...</td>\n",
       "      <td>...</td>\n",
       "      <td>...</td>\n",
       "      <td>...</td>\n",
       "      <td>...</td>\n",
       "      <td>...</td>\n",
       "      <td>...</td>\n",
       "      <td>...</td>\n",
       "      <td>...</td>\n",
       "      <td>...</td>\n",
       "      <td>...</td>\n",
       "      <td>...</td>\n",
       "      <td>...</td>\n",
       "    </tr>\n",
       "    <tr>\n",
       "      <th>14931</th>\n",
       "      <td>854242-1</td>\n",
       "      <td>Creeper Key Chain</td>\n",
       "      <td>2023</td>\n",
       "      <td>Gear</td>\n",
       "      <td>Miscellaneous</td>\n",
       "      <td>Key Chains/Minecraft</td>\n",
       "      <td>Gear</td>\n",
       "      <td>Tag</td>\n",
       "      <td>0</td>\n",
       "      <td>LEGO exclusive</td>\n",
       "      <td>NaN</td>\n",
       "      <td>0.0</td>\n",
       "      <td>2.0</td>\n",
       "      <td>0.0</td>\n",
       "      <td>5.99</td>\n",
       "      <td>NaN</td>\n",
       "      <td>NaN</td>\n",
       "    </tr>\n",
       "    <tr>\n",
       "      <th>14932</th>\n",
       "      <td>854243-1</td>\n",
       "      <td>Steve Key Chain</td>\n",
       "      <td>2023</td>\n",
       "      <td>Gear</td>\n",
       "      <td>Miscellaneous</td>\n",
       "      <td>Key Chains/Minecraft</td>\n",
       "      <td>Gear</td>\n",
       "      <td>Tag</td>\n",
       "      <td>0</td>\n",
       "      <td>LEGO exclusive</td>\n",
       "      <td>NaN</td>\n",
       "      <td>0.0</td>\n",
       "      <td>2.0</td>\n",
       "      <td>0.0</td>\n",
       "      <td>5.99</td>\n",
       "      <td>NaN</td>\n",
       "      <td>NaN</td>\n",
       "    </tr>\n",
       "    <tr>\n",
       "      <th>14933</th>\n",
       "      <td>854244-1</td>\n",
       "      <td>Piglin Key Chain</td>\n",
       "      <td>2023</td>\n",
       "      <td>Gear</td>\n",
       "      <td>Miscellaneous</td>\n",
       "      <td>Key Chains/Minecraft</td>\n",
       "      <td>Gear</td>\n",
       "      <td>Tag</td>\n",
       "      <td>0</td>\n",
       "      <td>LEGO exclusive</td>\n",
       "      <td>NaN</td>\n",
       "      <td>0.0</td>\n",
       "      <td>2.0</td>\n",
       "      <td>0.0</td>\n",
       "      <td>5.99</td>\n",
       "      <td>NaN</td>\n",
       "      <td>NaN</td>\n",
       "    </tr>\n",
       "    <tr>\n",
       "      <th>14934</th>\n",
       "      <td>854245-1</td>\n",
       "      <td>Fennec Shand Key Chain</td>\n",
       "      <td>2023</td>\n",
       "      <td>Gear</td>\n",
       "      <td>Miscellaneous</td>\n",
       "      <td>Key Chains/Star Wars</td>\n",
       "      <td>Gear</td>\n",
       "      <td>Tag</td>\n",
       "      <td>0</td>\n",
       "      <td>LEGO exclusive</td>\n",
       "      <td>NaN</td>\n",
       "      <td>0.0</td>\n",
       "      <td>88.0</td>\n",
       "      <td>0.0</td>\n",
       "      <td>5.99</td>\n",
       "      <td>NaN</td>\n",
       "      <td>NaN</td>\n",
       "    </tr>\n",
       "    <tr>\n",
       "      <th>14935</th>\n",
       "      <td>854246-1</td>\n",
       "      <td>Scout Trooper Key Chain</td>\n",
       "      <td>2023</td>\n",
       "      <td>Gear</td>\n",
       "      <td>Miscellaneous</td>\n",
       "      <td>Key Chains/Star Wars</td>\n",
       "      <td>Gear</td>\n",
       "      <td>Tag</td>\n",
       "      <td>0</td>\n",
       "      <td>LEGO exclusive</td>\n",
       "      <td>NaN</td>\n",
       "      <td>0.0</td>\n",
       "      <td>107.0</td>\n",
       "      <td>0.0</td>\n",
       "      <td>5.99</td>\n",
       "      <td>NaN</td>\n",
       "      <td>NaN</td>\n",
       "    </tr>\n",
       "  </tbody>\n",
       "</table>\n",
       "<p>14936 rows × 17 columns</p>\n",
       "</div>"
      ],
      "text/plain": [
       "         Set_ID                     Name  Year      Theme    Theme_Group  \\\n",
       "0          75-1            PreSchool Set  1975  PreSchool     Pre-school   \n",
       "1          77-1            PreSchool Set  1975  PreSchool     Pre-school   \n",
       "2         077-1           Pre-School Set  1975      Duplo     Pre-school   \n",
       "3          78-1            PreSchool Set  1975  PreSchool     Pre-school   \n",
       "4          78-3                Basic Set  1975  Samsonite        Vintage   \n",
       "...         ...                      ...   ...        ...            ...   \n",
       "14931  854242-1        Creeper Key Chain  2023       Gear  Miscellaneous   \n",
       "14932  854243-1          Steve Key Chain  2023       Gear  Miscellaneous   \n",
       "14933  854244-1         Piglin Key Chain  2023       Gear  Miscellaneous   \n",
       "14934  854245-1   Fennec Shand Key Chain  2023       Gear  Miscellaneous   \n",
       "14935  854246-1  Scout Trooper Key Chain  2023       Gear  Miscellaneous   \n",
       "\n",
       "                   Subtheme Category        Packaging  Num_Instructions  \\\n",
       "0                       NaN   Normal  {Not specified}                 0   \n",
       "1                       NaN   Normal  {Not specified}                 0   \n",
       "2                       NaN   Normal  {Not specified}                 0   \n",
       "3                       NaN   Normal  {Not specified}                 0   \n",
       "4                 Basic set   Normal              Box                 0   \n",
       "...                     ...      ...              ...               ...   \n",
       "14931  Key Chains/Minecraft     Gear              Tag                 0   \n",
       "14932  Key Chains/Minecraft     Gear              Tag                 0   \n",
       "14933  Key Chains/Minecraft     Gear              Tag                 0   \n",
       "14934  Key Chains/Star Wars     Gear              Tag                 0   \n",
       "14935  Key Chains/Star Wars     Gear              Tag                 0   \n",
       "\n",
       "          Availability  Pieces  Minifigures  Owned  Rating  USD_MSRP  \\\n",
       "0      {Not specified}    16.0          0.0   10.0     0.0       NaN   \n",
       "1      {Not specified}    20.0          0.0   11.0     0.0       NaN   \n",
       "2      {Not specified}    21.0          0.0   10.0     0.0       NaN   \n",
       "3      {Not specified}    32.0          0.0    8.0     0.0       NaN   \n",
       "4      {Not specified}   330.0          0.0   10.0     0.0       NaN   \n",
       "...                ...     ...          ...    ...     ...       ...   \n",
       "14931   LEGO exclusive     NaN          0.0    2.0     0.0      5.99   \n",
       "14932   LEGO exclusive     NaN          0.0    2.0     0.0      5.99   \n",
       "14933   LEGO exclusive     NaN          0.0    2.0     0.0      5.99   \n",
       "14934   LEGO exclusive     NaN          0.0   88.0     0.0      5.99   \n",
       "14935   LEGO exclusive     NaN          0.0  107.0     0.0      5.99   \n",
       "\n",
       "       Total_Quantity  Current_Price  \n",
       "0                 NaN            NaN  \n",
       "1                 NaN            NaN  \n",
       "2                 0.0            NaN  \n",
       "3                 NaN            NaN  \n",
       "4                 0.0            NaN  \n",
       "...               ...            ...  \n",
       "14931             NaN            NaN  \n",
       "14932             NaN            NaN  \n",
       "14933             NaN            NaN  \n",
       "14934             NaN            NaN  \n",
       "14935             NaN            NaN  \n",
       "\n",
       "[14936 rows x 17 columns]"
      ]
     },
     "execution_count": 3,
     "metadata": {},
     "output_type": "execute_result"
    }
   ],
   "source": [
    "df['Minifigures'].fillna(0,inplace = True) #We will fill null values in the minifigure column for better visualization\n",
    "df"
   ]
  },
  {
   "cell_type": "code",
   "execution_count": 4,
   "metadata": {},
   "outputs": [],
   "source": [
    "df_lin = df[df['Theme_Group']=='Licensed'] # Get data Frame with only Licensed themes"
   ]
  },
  {
   "cell_type": "code",
   "execution_count": 5,
   "metadata": {},
   "outputs": [
    {
     "data": {
      "text/plain": [
       "<BarContainer object of 49 artists>"
      ]
     },
     "execution_count": 5,
     "metadata": {},
     "output_type": "execute_result"
    },
    {
     "data": {
      "image/png": "[encoded data removed]",
      "text/plain": [
       "<Figure size 640x480 with 1 Axes>"
      ]
     },
     "metadata": {},
     "output_type": "display_data"
    }
   ],
   "source": [
    "sns.lineplot(df_lin['Year'].value_counts(sort=False),color = 'red')\n",
    "plt.bar(df['Year'].value_counts(sort=False).index,df['Year'].value_counts(sort=False).values)"
   ]
  },
  {
   "cell_type": "markdown",
   "metadata": {},
   "source": [
    "The cell above shows us the Number of licensed Sets over a period of time from the beginning, we can see that lego start to do licensed sets only after 1999, and the quantity skyrocketed after 2016"
   ]
  },
  {
   "cell_type": "code",
   "execution_count": 6,
   "metadata": {},
   "outputs": [
    {
     "data": {
      "image/png": "[encoded data removed]",
      "text/plain": [
       "<Figure size 640x480 with 1 Axes>"
      ]
     },
     "metadata": {},
     "output_type": "display_data"
    }
   ],
   "source": [
    "x = df['Minifigures']\n",
    "y = df['Pieces']\n",
    "\n",
    "# Create the scatter plot\n",
    "plt.scatter(x, y)\n",
    "plt.xlabel('Minifigure')\n",
    "plt.ylabel('Pieces')\n",
    "plt.title('Scatter Plot of Minifigures vs Pieces')\n",
    "plt.show()"
   ]
  },
  {
   "cell_type": "code",
   "execution_count": 7,
   "metadata": {},
   "outputs": [
    {
     "data": {
      "application/vnd.plotly.v1+json": {
       "config": {
        "plotlyServerURL": "https://plot.ly"
       },
       "data": [
        {
         "branchvalues": "total",
         "domain": {
          "x": [
           0,
           1
          ],
          "y": [
           0,
           1
          ]
         },
         "hovertemplate": "labels=%{label}<br>count=%{value}<br>parent=%{parent}<br>id=%{id}<extra></extra>",
         "ids": [
          "Model making/Advanced models",
          "Model making/Architecture",
          "Art and crafts/Art",
          "Licensed/Avatar",
          "Basic/Basic",
          "Girls/Belville",
          "Constraction/Bionicle",
          "Licensed/Brick Sketches",
          "Licensed/BrickHeadz",
          "Basic/Bricks and More",
          "Basic/Bulk Bricks",
          "Licensed/Cars",
          "Historical/Castle",
          "Modern day/City",
          "Basic/Classic",
          "Miscellaneous/Collectable Minifigures",
          "Model making/Creator",
          "Model making/Creator Expert",
          "Licensed/DC Comics Super Heroes",
          "Miscellaneous/Dimensions",
          "Licensed/Disney",
          "Art and crafts/Dots",
          "Pre-school/Duplo",
          "Educational/Education",
          "Action/Adventure/Exo-Force",
          "Miscellaneous/Factory",
          "Modern day/Friends",
          "Miscellaneous/Games",
          "Constraction/HERO Factory",
          "Licensed/Harry Potter",
          "Action/Adventure/Hidden Side",
          "Model making/Icons",
          "Miscellaneous/Ideas",
          "Licensed/Indiana Jones",
          "Junior/Juniors",
          "Licensed/Jurassic World",
          "Action/Adventure/Legends of Chima",
          "Licensed/Marvel Super Heroes",
          "Technical/Mindstorms",
          "Licensed/Minecraft",
          "Licensed/Minions: The Rise of Gru",
          "Miscellaneous/Miscellaneous",
          "Miscellaneous/Mixels",
          "Action/Adventure/Monkie Kid",
          "Action/Adventure/Nexo Knights",
          "Action/Adventure/Ninjago",
          "Historical/Pharaoh's Quest",
          "Licensed/Pirates of the Caribbean",
          "Technical/Power Functions",
          "Licensed/Prince of Persia",
          "Miscellaneous/Promotional",
          "Racing/Racers",
          "Miscellaneous/Seasonal",
          "Action/Adventure/Space",
          "Licensed/Speed Champions",
          "Licensed/Star Wars",
          "Licensed/Super Mario",
          "Technical/Technic",
          "Licensed/Teenage Mutant Ninja Turtles",
          "Licensed/The Hobbit",
          "Licensed/The LEGO Batman Movie",
          "Licensed/The LEGO Movie",
          "Licensed/The LEGO Movie 2",
          "Licensed/The Lord of the Rings",
          "Licensed/Toy Story",
          "Modern day/Trains",
          "Licensed/Trolls World Tour",
          "Licensed/Unikitty",
          "Licensed/Vidiyo",
          "Action/Adventure",
          "Art and crafts",
          "Basic",
          "Constraction",
          "Educational",
          "Girls",
          "Historical",
          "Junior",
          "Licensed",
          "Miscellaneous",
          "Model making",
          "Modern day",
          "Pre-school",
          "Racing",
          "Technical"
         ],
         "labels": [
          "Advanced models",
          "Architecture",
          "Art",
          "Avatar",
          "Basic",
          "Belville",
          "Bionicle",
          "Brick Sketches",
          "BrickHeadz",
          "Bricks and More",
          "Bulk Bricks",
          "Cars",
          "Castle",
          "City",
          "Classic",
          "Collectable Minifigures",
          "Creator",
          "Creator Expert",
          "DC Comics Super Heroes",
          "Dimensions",
          "Disney",
          "Dots",
          "Duplo",
          "Education",
          "Exo-Force",
          "Factory",
          "Friends",
          "Games",
          "HERO Factory",
          "Harry Potter",
          "Hidden Side",
          "Icons",
          "Ideas",
          "Indiana Jones",
          "Juniors",
          "Jurassic World",
          "Legends of Chima",
          "Marvel Super Heroes",
          "Mindstorms",
          "Minecraft",
          "Minions: The Rise of Gru",
          "Miscellaneous",
          "Mixels",
          "Monkie Kid",
          "Nexo Knights",
          "Ninjago",
          "Pharaoh's Quest",
          "Pirates of the Caribbean",
          "Power Functions",
          "Prince of Persia",
          "Promotional",
          "Racers",
          "Seasonal",
          "Space",
          "Speed Champions",
          "Star Wars",
          "Super Mario",
          "Technic",
          "Teenage Mutant Ninja Turtles",
          "The Hobbit",
          "The LEGO Batman Movie",
          "The LEGO Movie",
          "The LEGO Movie 2",
          "The Lord of the Rings",
          "Toy Story",
          "Trains",
          "Trolls World Tour",
          "Unikitty",
          "Vidiyo",
          "Action/Adventure",
          "Art and crafts",
          "Basic",
          "Constraction",
          "Educational",
          "Girls",
          "Historical",
          "Junior",
          "Licensed",
          "Miscellaneous",
          "Model making",
          "Modern day",
          "Pre-school",
          "Racing",
          "Technical"
         ],
         "name": "",
         "parents": [
          "Model making",
          "Model making",
          "Art and crafts",
          "Licensed",
          "Basic",
          "Girls",
          "Constraction",
          "Licensed",
          "Licensed",
          "Basic",
          "Basic",
          "Licensed",
          "Historical",
          "Modern day",
          "Basic",
          "Miscellaneous",
          "Model making",
          "Model making",
          "Licensed",
          "Miscellaneous",
          "Licensed",
          "Art and crafts",
          "Pre-school",
          "Educational",
          "Action/Adventure",
          "Miscellaneous",
          "Modern day",
          "Miscellaneous",
          "Constraction",
          "Licensed",
          "Action/Adventure",
          "Model making",
          "Miscellaneous",
          "Licensed",
          "Junior",
          "Licensed",
          "Action/Adventure",
          "Licensed",
          "Technical",
          "Licensed",
          "Licensed",
          "Miscellaneous",
          "Miscellaneous",
          "Action/Adventure",
          "Action/Adventure",
          "Action/Adventure",
          "Historical",
          "Licensed",
          "Technical",
          "Licensed",
          "Miscellaneous",
          "Racing",
          "Miscellaneous",
          "Action/Adventure",
          "Licensed",
          "Licensed",
          "Licensed",
          "Technical",
          "Licensed",
          "Licensed",
          "Licensed",
          "Licensed",
          "Licensed",
          "Licensed",
          "Licensed",
          "Modern day",
          "Licensed",
          "Licensed",
          "Licensed",
          "",
          "",
          "",
          "",
          "",
          "",
          "",
          "",
          "",
          "",
          "",
          "",
          "",
          "",
          ""
         ],
         "type": "sunburst",
         "values": [
          24,
          50,
          11,
          8,
          2,
          1,
          69,
          8,
          112,
          1,
          2,
          18,
          30,
          436,
          34,
          14,
          170,
          35,
          33,
          63,
          90,
          43,
          37,
          5,
          17,
          3,
          214,
          12,
          24,
          48,
          2,
          37,
          26,
          18,
          31,
          18,
          63,
          75,
          11,
          69,
          2,
          12,
          78,
          2,
          38,
          209,
          1,
          10,
          18,
          5,
          5,
          37,
          76,
          42,
          21,
          446,
          44,
          35,
          14,
          14,
          1,
          4,
          2,
          12,
          11,
          8,
          1,
          2,
          13,
          373,
          54,
          39,
          93,
          5,
          1,
          31,
          31,
          1099,
          289,
          316,
          658,
          37,
          37,
          64
         ]
        }
       ],
       "layout": {
        "legend": {
         "tracegroupgap": 0
        },
        "margin": {
         "t": 60
        },
        "template": {
         "data": {
          "bar": [
           {
            "error_x": {
             "color": "#2a3f5f"
            },
            "error_y": {
             "color": "#2a3f5f"
            },
            "marker": {
             "line": {
              "color": "#E5ECF6",
              "width": 0.5
             },
             "pattern": {
              "fillmode": "overlay",
              "size": 10,
              "solidity": 0.2
             }
            },
            "type": "bar"
           }
          ],
          "barpolar": [
           {
            "marker": {
             "line": {
              "color": "#E5ECF6",
              "width": 0.5
             },
             "pattern": {
              "fillmode": "overlay",
              "size": 10,
              "solidity": 0.2
             }
            },
            "type": "barpolar"
           }
          ],
          "carpet": [
           {
            "aaxis": {
             "endlinecolor": "#2a3f5f",
             "gridcolor": "white",
             "linecolor": "white",
             "minorgridcolor": "white",
             "startlinecolor": "#2a3f5f"
            },
            "baxis": {
             "endlinecolor": "#2a3f5f",
             "gridcolor": "white",
             "linecolor": "white",
             "minorgridcolor": "white",
             "startlinecolor": "#2a3f5f"
            },
            "type": "carpet"
           }
          ],
          "choropleth": [
           {
            "colorbar": {
             "outlinewidth": 0,
             "ticks": ""
            },
            "type": "choropleth"
           }
          ],
          "contour": [
           {
            "colorbar": {
             "outlinewidth": 0,
             "ticks": ""
            },
            "colorscale": [
             [
              0,
              "#0d0887"
             ],
             [
              0.1111111111111111,
              "#46039f"
             ],
             [
              0.2222222222222222,
              "#7201a8"
             ],
             [
              0.3333333333333333,
              "#9c179e"
             ],
             [
              0.4444444444444444,
              "#bd3786"
             ],
             [
              0.5555555555555556,
              "#d8576b"
             ],
             [
              0.6666666666666666,
              "#ed7953"
             ],
             [
              0.7777777777777778,
              "#fb9f3a"
             ],
             [
              0.8888888888888888,
              "#fdca26"
             ],
             [
              1,
              "#f0f921"
             ]
            ],
            "type": "contour"
           }
          ],
          "contourcarpet": [
           {
            "colorbar": {
             "outlinewidth": 0,
             "ticks": ""
            },
            "type": "contourcarpet"
           }
          ],
          "heatmap": [
           {
            "colorbar": {
             "outlinewidth": 0,
             "ticks": ""
            },
            "colorscale": [
             [
              0,
              "#0d0887"
             ],
             [
              0.1111111111111111,
              "#46039f"
             ],
             [
              0.2222222222222222,
              "#7201a8"
             ],
             [
              0.3333333333333333,
              "#9c179e"
             ],
             [
              0.4444444444444444,
              "#bd3786"
             ],
             [
              0.5555555555555556,
              "#d8576b"
             ],
             [
              0.6666666666666666,
              "#ed7953"
             ],
             [
              0.7777777777777778,
              "#fb9f3a"
             ],
             [
              0.8888888888888888,
              "#fdca26"
             ],
             [
              1,
              "#f0f921"
             ]
            ],
            "type": "heatmap"
           }
          ],
          "heatmapgl": [
           {
            "colorbar": {
             "outlinewidth": 0,
             "ticks": ""
            },
            "colorscale": [
             [
              0,
              "#0d0887"
             ],
             [
              0.1111111111111111,
              "#46039f"
             ],
             [
              0.2222222222222222,
              "#7201a8"
             ],
             [
              0.3333333333333333,
              "#9c179e"
             ],
             [
              0.4444444444444444,
              "#bd3786"
             ],
             [
              0.5555555555555556,
              "#d8576b"
             ],
             [
              0.6666666666666666,
              "#ed7953"
             ],
             [
              0.7777777777777778,
              "#fb9f3a"
             ],
             [
              0.8888888888888888,
              "#fdca26"
             ],
             [
              1,
              "#f0f921"
             ]
            ],
            "type": "heatmapgl"
           }
          ],
          "histogram": [
           {
            "marker": {
             "pattern": {
              "fillmode": "overlay",
              "size": 10,
              "solidity": 0.2
             }
            },
            "type": "histogram"
           }
          ],
          "histogram2d": [
           {
            "colorbar": {
             "outlinewidth": 0,
             "ticks": ""
            },
            "colorscale": [
             [
              0,
              "#0d0887"
             ],
             [
              0.1111111111111111,
              "#46039f"
             ],
             [
              0.2222222222222222,
              "#7201a8"
             ],
             [
              0.3333333333333333,
              "#9c179e"
             ],
             [
              0.4444444444444444,
              "#bd3786"
             ],
             [
              0.5555555555555556,
              "#d8576b"
             ],
             [
              0.6666666666666666,
              "#ed7953"
             ],
             [
              0.7777777777777778,
              "#fb9f3a"
             ],
             [
              0.8888888888888888,
              "#fdca26"
             ],
             [
              1,
              "#f0f921"
             ]
            ],
            "type": "histogram2d"
           }
          ],
          "histogram2dcontour": [
           {
            "colorbar": {
             "outlinewidth": 0,
             "ticks": ""
            },
            "colorscale": [
             [
              0,
              "#0d0887"
             ],
             [
              0.1111111111111111,
              "#46039f"
             ],
             [
              0.2222222222222222,
              "#7201a8"
             ],
             [
              0.3333333333333333,
              "#9c179e"
             ],
             [
              0.4444444444444444,
              "#bd3786"
             ],
             [
              0.5555555555555556,
              "#d8576b"
             ],
             [
              0.6666666666666666,
              "#ed7953"
             ],
             [
              0.7777777777777778,
              "#fb9f3a"
             ],
             [
              0.8888888888888888,
              "#fdca26"
             ],
             [
              1,
              "#f0f921"
             ]
            ],
            "type": "histogram2dcontour"
           }
          ],
          "mesh3d": [
           {
            "colorbar": {
             "outlinewidth": 0,
             "ticks": ""
            },
            "type": "mesh3d"
           }
          ],
          "parcoords": [
           {
            "line": {
             "colorbar": {
              "outlinewidth": 0,
              "ticks": ""
             }
            },
            "type": "parcoords"
           }
          ],
          "pie": [
           {
            "automargin": true,
            "type": "pie"
           }
          ],
          "scatter": [
           {
            "fillpattern": {
             "fillmode": "overlay",
             "size": 10,
             "solidity": 0.2
            },
            "type": "scatter"
           }
          ],
          "scatter3d": [
           {
            "line": {
             "colorbar": {
              "outlinewidth": 0,
              "ticks": ""
             }
            },
            "marker": {
             "colorbar": {
              "outlinewidth": 0,
              "ticks": ""
             }
            },
            "type": "scatter3d"
           }
          ],
          "scattercarpet": [
           {
            "marker": {
             "colorbar": {
              "outlinewidth": 0,
              "ticks": ""
             }
            },
            "type": "scattercarpet"
           }
          ],
          "scattergeo": [
           {
            "marker": {
             "colorbar": {
              "outlinewidth": 0,
              "ticks": ""
             }
            },
            "type": "scattergeo"
           }
          ],
          "scattergl": [
           {
            "marker": {
             "colorbar": {
              "outlinewidth": 0,
              "ticks": ""
             }
            },
            "type": "scattergl"
           }
          ],
          "scattermapbox": [
           {
            "marker": {
             "colorbar": {
              "outlinewidth": 0,
              "ticks": ""
             }
            },
            "type": "scattermapbox"
           }
          ],
          "scatterpolar": [
           {
            "marker": {
             "colorbar": {
              "outlinewidth": 0,
              "ticks": ""
             }
            },
            "type": "scatterpolar"
           }
          ],
          "scatterpolargl": [
           {
            "marker": {
             "colorbar": {
              "outlinewidth": 0,
              "ticks": ""
             }
            },
            "type": "scatterpolargl"
           }
          ],
          "scatterternary": [
           {
            "marker": {
             "colorbar": {
              "outlinewidth": 0,
              "ticks": ""
             }
            },
            "type": "scatterternary"
           }
          ],
          "surface": [
           {
            "colorbar": {
             "outlinewidth": 0,
             "ticks": ""
            },
            "colorscale": [
             [
              0,
              "#0d0887"
             ],
             [
              0.1111111111111111,
              "#46039f"
             ],
             [
              0.2222222222222222,
              "#7201a8"
             ],
             [
              0.3333333333333333,
              "#9c179e"
             ],
             [
              0.4444444444444444,
              "#bd3786"
             ],
             [
              0.5555555555555556,
              "#d8576b"
             ],
             [
              0.6666666666666666,
              "#ed7953"
             ],
             [
              0.7777777777777778,
              "#fb9f3a"
             ],
             [
              0.8888888888888888,
              "#fdca26"
             ],
             [
              1,
              "#f0f921"
             ]
            ],
            "type": "surface"
           }
          ],
          "table": [
           {
            "cells": {
             "fill": {
              "color": "#EBF0F8"
             },
             "line": {
              "color": "white"
             }
            },
            "header": {
             "fill": {
              "color": "#C8D4E3"
             },
             "line": {
              "color": "white"
             }
            },
            "type": "table"
           }
          ]
         },
         "layout": {
          "annotationdefaults": {
           "arrowcolor": "#2a3f5f",
           "arrowhead": 0,
           "arrowwidth": 1
          },
          "autotypenumbers": "strict",
          "coloraxis": {
           "colorbar": {
            "outlinewidth": 0,
            "ticks": ""
           }
          },
          "colorscale": {
           "diverging": [
            [
             0,
             "#8e0152"
            ],
            [
             0.1,
             "#c51b7d"
            ],
            [
             0.2,
             "#de77ae"
            ],
            [
             0.3,
             "#f1b6da"
            ],
            [
             0.4,
             "#fde0ef"
            ],
            [
             0.5,
             "#f7f7f7"
            ],
            [
             0.6,
             "#e6f5d0"
            ],
            [
             0.7,
             "#b8e186"
            ],
            [
             0.8,
             "#7fbc41"
            ],
            [
             0.9,
             "#4d9221"
            ],
            [
             1,
             "#276419"
            ]
           ],
           "sequential": [
            [
             0,
             "#0d0887"
            ],
            [
             0.1111111111111111,
             "#46039f"
            ],
            [
             0.2222222222222222,
             "#7201a8"
            ],
            [
             0.3333333333333333,
             "#9c179e"
            ],
            [
             0.4444444444444444,
             "#bd3786"
            ],
            [
             0.5555555555555556,
             "#d8576b"
            ],
            [
             0.6666666666666666,
             "#ed7953"
            ],
            [
             0.7777777777777778,
             "#fb9f3a"
            ],
            [
             0.8888888888888888,
             "#fdca26"
            ],
            [
             1,
             "#f0f921"
            ]
           ],
           "sequentialminus": [
            [
             0,
             "#0d0887"
            ],
            [
             0.1111111111111111,
             "#46039f"
            ],
            [
             0.2222222222222222,
             "#7201a8"
            ],
            [
             0.3333333333333333,
             "#9c179e"
            ],
            [
             0.4444444444444444,
             "#bd3786"
            ],
            [
             0.5555555555555556,
             "#d8576b"
            ],
            [
             0.6666666666666666,
             "#ed7953"
            ],
            [
             0.7777777777777778,
             "#fb9f3a"
            ],
            [
             0.8888888888888888,
             "#fdca26"
            ],
            [
             1,
             "#f0f921"
            ]
           ]
          },
          "colorway": [
           "#636efa",
           "#EF553B",
           "#00cc96",
           "#ab63fa",
           "#FFA15A",
           "#19d3f3",
           "#FF6692",
           "#B6E880",
           "#FF97FF",
           "#FECB52"
          ],
          "font": {
           "color": "#2a3f5f"
          },
          "geo": {
           "bgcolor": "white",
           "lakecolor": "white",
           "landcolor": "#E5ECF6",
           "showlakes": true,
           "showland": true,
           "subunitcolor": "white"
          },
          "hoverlabel": {
           "align": "left"
          },
          "hovermode": "closest",
          "mapbox": {
           "style": "light"
          },
          "paper_bgcolor": "white",
          "plot_bgcolor": "#E5ECF6",
          "polar": {
           "angularaxis": {
            "gridcolor": "white",
            "linecolor": "white",
            "ticks": ""
           },
           "bgcolor": "#E5ECF6",
           "radialaxis": {
            "gridcolor": "white",
            "linecolor": "white",
            "ticks": ""
           }
          },
          "scene": {
           "xaxis": {
            "backgroundcolor": "#E5ECF6",
            "gridcolor": "white",
            "gridwidth": 2,
            "linecolor": "white",
            "showbackground": true,
            "ticks": "",
            "zerolinecolor": "white"
           },
           "yaxis": {
            "backgroundcolor": "#E5ECF6",
            "gridcolor": "white",
            "gridwidth": 2,
            "linecolor": "white",
            "showbackground": true,
            "ticks": "",
            "zerolinecolor": "white"
           },
           "zaxis": {
            "backgroundcolor": "#E5ECF6",
            "gridcolor": "white",
            "gridwidth": 2,
            "linecolor": "white",
            "showbackground": true,
            "ticks": "",
            "zerolinecolor": "white"
           }
          },
          "shapedefaults": {
           "line": {
            "color": "#2a3f5f"
           }
          },
          "ternary": {
           "aaxis": {
            "gridcolor": "white",
            "linecolor": "white",
            "ticks": ""
           },
           "baxis": {
            "gridcolor": "white",
            "linecolor": "white",
            "ticks": ""
           },
           "bgcolor": "#E5ECF6",
           "caxis": {
            "gridcolor": "white",
            "linecolor": "white",
            "ticks": ""
           }
          },
          "title": {
           "x": 0.05
          },
          "xaxis": {
           "automargin": true,
           "gridcolor": "white",
           "linecolor": "white",
           "ticks": "",
           "title": {
            "standoff": 15
           },
           "zerolinecolor": "white",
           "zerolinewidth": 2
          },
          "yaxis": {
           "automargin": true,
           "gridcolor": "white",
           "linecolor": "white",
           "ticks": "",
           "title": {
            "standoff": 15
           },
           "zerolinecolor": "white",
           "zerolinewidth": 2
          }
         }
        }
       }
      }
     },
     "metadata": {},
     "output_type": "display_data"
    }
   ],
   "source": [
    "dfnona = df.dropna()\n",
    "px.sunburst(dfnona,path=['Theme_Group','Theme'])"
   ]
  },
  {
   "cell_type": "markdown",
   "metadata": {},
   "source": [
    "Sunburst Plot of all Sets by Lego"
   ]
  },
  {
   "cell_type": "code",
   "execution_count": null,
   "metadata": {},
   "outputs": [],
   "source": []
  }
 ],
 "metadata": {
  "kernelspec": {
   "display_name": "Render",
   "language": "python",
   "name": "python3"
  },
  "language_info": {
   "codemirror_mode": {
    "name": "ipython",
    "version": 3
   },
   "file_extension": ".py",
   "mimetype": "text/x-python",
   "name": "python",
   "nbconvert_exporter": "python",
   "pygments_lexer": "ipython3",
   "version": "3.11.9"
  }
 },
 "nbformat": 4,
 "nbformat_minor": 2
}
